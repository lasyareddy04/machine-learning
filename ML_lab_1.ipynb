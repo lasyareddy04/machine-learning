{
  "nbformat": 4,
  "nbformat_minor": 0,
  "metadata": {
    "colab": {
      "provenance": []
    },
    "kernelspec": {
      "name": "python3",
      "display_name": "Python 3"
    },
    "language_info": {
      "name": "python"
    }
  },
  "cells": [
    {
      "cell_type": "code",
      "execution_count": null,
      "metadata": {
        "id": "76-EKrOtwPjm",
        "colab": {
          "base_uri": "https://localhost:8080/"
        },
        "outputId": "c7dd96f1-6692-42f3-fea6-fed20d863945"
      },
      "outputs": [
        {
          "output_type": "stream",
          "name": "stdout",
          "text": [
            "Enter a string: lasya\n",
            "Number of vowels: 2\n",
            "Number of consonants: 3\n"
          ]
        }
      ],
      "source": [
        "#Q1\n",
        "def n_vowels_and_consonants(input_string):\n",
        "    vowels = \"aeiouAEIOU\"\n",
        "    n_vowel = 0\n",
        "    n_consonant = 0\n",
        "\n",
        "    for char in input_string:\n",
        "        if char.isalpha():\n",
        "            if char in vowels:\n",
        "                n_vowel += 1\n",
        "            else:\n",
        "                n_consonant += 1\n",
        "\n",
        "    return n_vowel, n_consonant\n",
        "\n",
        "user_input = input(\"Enter a string: \")\n",
        "vowels, consonants = n_vowels_and_consonants(user_input)\n",
        "print(\"Number of vowels:\", vowels)\n",
        "print(\"Number of consonants:\", consonants)\n"
      ]
    },
    {
      "cell_type": "code",
      "source": [
        "#2 write a program that accept 2 matrix a and b as input and return there product ab check if a and b are multiple if not return error message\n",
        "def ip_matrix(name):\n",
        "    rows = int(input(f\"Enter the no of row  \"))\n",
        "    cols = int(input(f\"Enter the no of col \"))\n",
        "    print(f\"Enter the elements \")\n",
        "\n",
        "    matrix = []\n",
        "    for i in range(rows):\n",
        "        row = list(map(int, input(f\"Row {i+1}: \").split()))\n",
        "        if len(row) != cols:\n",
        "            raise ValueError(f\"Each row must have {cols} elements.\")\n",
        "        matrix.append(row)\n",
        "\n",
        "    return matrix\n",
        "\n",
        "def can_mul(a, b):\n",
        "    return len(a[0]) == len(b)\n",
        "\n",
        "def mul_matrices(a, b):\n",
        "    result_rows = len(a)\n",
        "    result_cols = len(b[0])\n",
        "    common_dim = len(b)\n",
        "\n",
        "    result = []\n",
        "    for i in range(result_rows):\n",
        "        row = []\n",
        "        for j in range(result_cols):\n",
        "            sum_pro = 0\n",
        "            for k in range(common_dim):\n",
        "                sum_pro += a[i][k] * b[k][j]\n",
        "            row.append(sum_pro)\n",
        "        result.append(row)\n",
        "\n",
        "    return result\n",
        "\n",
        "# Main program\n",
        "try:\n",
        "    A = ip_matrix(\"A\")\n",
        "    B = ip_matrix(\"B\")\n",
        "\n",
        "    if can_mul(A, B):\n",
        "        product = mul_matrices(A, B)\n",
        "        print(\"mul of A and B is:\")\n",
        "        for row in product:\n",
        "            print(row)\n",
        "    else:\n",
        "        print(\"Error: Cannot mul mat A and B.\")\n",
        "except Exception as e:\n",
        "    print(\"Error:\", e)\n"
      ],
      "metadata": {
        "colab": {
          "base_uri": "https://localhost:8080/"
        },
        "id": "eKLLCVOW1jBJ",
        "outputId": "b99d10c1-d5af-4094-b702-a41907331c59"
      },
      "execution_count": null,
      "outputs": [
        {
          "output_type": "stream",
          "name": "stdout",
          "text": [
            "Enter the no of row  2\n",
            "Enter the no of col 2\n",
            "Enter the elements \n",
            "Row 1: 2 4\n",
            "Row 2: 2 5\n",
            "Enter the no of row  2\n",
            "Enter the no of col 2\n",
            "Enter the elements \n",
            "Row 1: 2 5\n",
            "Row 2: 2 4\n",
            "Error: name 'sum_prot' is not defined\n"
          ]
        }
      ]
    },
    {
      "cell_type": "code",
      "source": [
        "#Q3\n",
        "#finding number of common elements in 2 lists\n",
        "\n",
        "def common_elements(list1,list2):\n",
        "    set1=set(list1)\n",
        "    set2=set(list2)\n",
        "    common_elements=set1.intersection(set2)\n",
        "    return len(common_elements)\n",
        "\n",
        "list1=[1, 2, 3, 4]\n",
        "list2=[3, 4, 5, 6]\n",
        "common_count=common_elements(list1, list2)\n",
        "print(f\"Common elements count: {common_count}\")\n",
        "\n",
        "\n",
        "\n"
      ],
      "metadata": {
        "colab": {
          "base_uri": "https://localhost:8080/"
        },
        "id": "E2XXPT5vrHYc",
        "outputId": "ec4065e6-fb6b-4e37-c9e4-ac894b722db0"
      },
      "execution_count": null,
      "outputs": [
        {
          "output_type": "stream",
          "name": "stdout",
          "text": [
            "Common elements count: 2\n"
          ]
        }
      ]
    },
    {
      "cell_type": "code",
      "source": [
        "\n",
        "#Q4\n",
        "#taking matrix as an input and displaying transpose\n",
        "\n",
        "def transpose(matrix):\n",
        "    return [[matrix[i][j] for i in range (len(matrix))]for j in range (len(matrix[0]))]\n",
        "\n",
        "matrix_input = [[1, 2], [3, 4], [5, 6]]\n",
        "transposed = transpose(matrix_input)\n",
        "print(transposed)"
      ],
      "metadata": {
        "colab": {
          "base_uri": "https://localhost:8080/"
        },
        "id": "Dng-F6x7rgHf",
        "outputId": "169cd531-6b12-48e5-a820-2c6355a7dc32"
      },
      "execution_count": null,
      "outputs": [
        {
          "output_type": "stream",
          "name": "stdout",
          "text": [
            "[[1, 3, 5], [2, 4, 6]]\n"
          ]
        }
      ]
    }
  ]
}